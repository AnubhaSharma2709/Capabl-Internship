{
 "cells": [
  {
   "cell_type": "markdown",
   "id": "9851cd36-7375-4f4d-8bff-d5dbc33b6151",
   "metadata": {},
   "source": [
    "## Project Title: Predict Taxi Trip duration\n",
    "#### Project Completed by: Anubha Sharma\n",
    "#### Under Capabl Data Science Summer Internship"
   ]
  },
  {
   "cell_type": "markdown",
   "id": "e46fa0b6-c9a6-4dc3-816b-aa66be6bd9e2",
   "metadata": {},
   "source": [
    "### Step1: Import the necessary Libraries"
   ]
  },
  {
   "cell_type": "code",
   "execution_count": 23,
   "id": "529edd3a-2794-4436-a8e7-2f9097a6ac19",
   "metadata": {},
   "outputs": [],
   "source": [
    "import numpy as np\n",
    "import pandas as pd\n",
    "import matplotlib.pyplot as plt\n",
    "import seaborn as sns\n",
    "%matplotlib inline\n",
    "sns.set_style(\"whitegrid\")\n",
    "from sklearn.preprocessing import LabelEncoder\n",
    "from sklearn.preprocessing import MinMaxScaler\n",
    "from sklearn.model_selection import train_test_split\n",
    "from sklearn.linear_model import LinearRegression\n",
    "from sklearn.metrics import mean_squared_error,r2_score,mean_absolute_error"
   ]
  },
  {
   "cell_type": "markdown",
   "id": "7708d1bf-1365-4a36-bc48-ea70eaaadd61",
   "metadata": {},
   "source": [
    "## Step2: Load the training and test data"
   ]
  },
  {
   "cell_type": "code",
   "execution_count": 24,
   "id": "a60673a2-0843-4cfa-88bd-ef0a8477756a",
   "metadata": {},
   "outputs": [
    {
     "data": {
      "text/html": [
       "<div>\n",
       "<style scoped>\n",
       "    .dataframe tbody tr th:only-of-type {\n",
       "        vertical-align: middle;\n",
       "    }\n",
       "\n",
       "    .dataframe tbody tr th {\n",
       "        vertical-align: top;\n",
       "    }\n",
       "\n",
       "    .dataframe thead th {\n",
       "        text-align: right;\n",
       "    }\n",
       "</style>\n",
       "<table border=\"1\" class=\"dataframe\">\n",
       "  <thead>\n",
       "    <tr style=\"text-align: right;\">\n",
       "      <th></th>\n",
       "      <th>id</th>\n",
       "      <th>vendor_id</th>\n",
       "      <th>pickup_datetime</th>\n",
       "      <th>dropoff_datetime</th>\n",
       "      <th>passenger_count</th>\n",
       "      <th>pickup_longitude</th>\n",
       "      <th>pickup_latitude</th>\n",
       "      <th>dropoff_longitude</th>\n",
       "      <th>dropoff_latitude</th>\n",
       "      <th>store_and_fwd_flag</th>\n",
       "      <th>trip_duration</th>\n",
       "    </tr>\n",
       "  </thead>\n",
       "  <tbody>\n",
       "    <tr>\n",
       "      <th>0</th>\n",
       "      <td>id2875421</td>\n",
       "      <td>2</td>\n",
       "      <td>2016-03-14 17:24:55</td>\n",
       "      <td>2016-03-14 17:32:30</td>\n",
       "      <td>1</td>\n",
       "      <td>-73.982155</td>\n",
       "      <td>40.767937</td>\n",
       "      <td>-73.964630</td>\n",
       "      <td>40.765602</td>\n",
       "      <td>N</td>\n",
       "      <td>455</td>\n",
       "    </tr>\n",
       "    <tr>\n",
       "      <th>1</th>\n",
       "      <td>id2377394</td>\n",
       "      <td>1</td>\n",
       "      <td>2016-06-12 00:43:35</td>\n",
       "      <td>2016-06-12 00:54:38</td>\n",
       "      <td>1</td>\n",
       "      <td>-73.980415</td>\n",
       "      <td>40.738564</td>\n",
       "      <td>-73.999481</td>\n",
       "      <td>40.731152</td>\n",
       "      <td>N</td>\n",
       "      <td>663</td>\n",
       "    </tr>\n",
       "    <tr>\n",
       "      <th>2</th>\n",
       "      <td>id3858529</td>\n",
       "      <td>2</td>\n",
       "      <td>2016-01-19 11:35:24</td>\n",
       "      <td>2016-01-19 12:10:48</td>\n",
       "      <td>1</td>\n",
       "      <td>-73.979027</td>\n",
       "      <td>40.763939</td>\n",
       "      <td>-74.005333</td>\n",
       "      <td>40.710087</td>\n",
       "      <td>N</td>\n",
       "      <td>2124</td>\n",
       "    </tr>\n",
       "    <tr>\n",
       "      <th>3</th>\n",
       "      <td>id3504673</td>\n",
       "      <td>2</td>\n",
       "      <td>2016-04-06 19:32:31</td>\n",
       "      <td>2016-04-06 19:39:40</td>\n",
       "      <td>1</td>\n",
       "      <td>-74.010040</td>\n",
       "      <td>40.719971</td>\n",
       "      <td>-74.012268</td>\n",
       "      <td>40.706718</td>\n",
       "      <td>N</td>\n",
       "      <td>429</td>\n",
       "    </tr>\n",
       "    <tr>\n",
       "      <th>4</th>\n",
       "      <td>id2181028</td>\n",
       "      <td>2</td>\n",
       "      <td>2016-03-26 13:30:55</td>\n",
       "      <td>2016-03-26 13:38:10</td>\n",
       "      <td>1</td>\n",
       "      <td>-73.973053</td>\n",
       "      <td>40.793209</td>\n",
       "      <td>-73.972923</td>\n",
       "      <td>40.782520</td>\n",
       "      <td>N</td>\n",
       "      <td>435</td>\n",
       "    </tr>\n",
       "  </tbody>\n",
       "</table>\n",
       "</div>"
      ],
      "text/plain": [
       "          id  vendor_id     pickup_datetime    dropoff_datetime  \\\n",
       "0  id2875421          2 2016-03-14 17:24:55 2016-03-14 17:32:30   \n",
       "1  id2377394          1 2016-06-12 00:43:35 2016-06-12 00:54:38   \n",
       "2  id3858529          2 2016-01-19 11:35:24 2016-01-19 12:10:48   \n",
       "3  id3504673          2 2016-04-06 19:32:31 2016-04-06 19:39:40   \n",
       "4  id2181028          2 2016-03-26 13:30:55 2016-03-26 13:38:10   \n",
       "\n",
       "   passenger_count  pickup_longitude  pickup_latitude  dropoff_longitude  \\\n",
       "0                1        -73.982155        40.767937         -73.964630   \n",
       "1                1        -73.980415        40.738564         -73.999481   \n",
       "2                1        -73.979027        40.763939         -74.005333   \n",
       "3                1        -74.010040        40.719971         -74.012268   \n",
       "4                1        -73.973053        40.793209         -73.972923   \n",
       "\n",
       "   dropoff_latitude store_and_fwd_flag  trip_duration  \n",
       "0         40.765602                  N            455  \n",
       "1         40.731152                  N            663  \n",
       "2         40.710087                  N           2124  \n",
       "3         40.706718                  N            429  \n",
       "4         40.782520                  N            435  "
      ]
     },
     "execution_count": 24,
     "metadata": {},
     "output_type": "execute_result"
    }
   ],
   "source": [
    "train_data=pd.read_csv(\"train.csv\",parse_dates=[\"pickup_datetime\" ,\"dropoff_datetime\"])\n",
    "train_data.head(5)"
   ]
  },
  {
   "cell_type": "code",
   "execution_count": 25,
   "id": "62916817-216d-4884-a9dd-3f6ffe87e717",
   "metadata": {},
   "outputs": [
    {
     "data": {
      "text/html": [
       "<div>\n",
       "<style scoped>\n",
       "    .dataframe tbody tr th:only-of-type {\n",
       "        vertical-align: middle;\n",
       "    }\n",
       "\n",
       "    .dataframe tbody tr th {\n",
       "        vertical-align: top;\n",
       "    }\n",
       "\n",
       "    .dataframe thead th {\n",
       "        text-align: right;\n",
       "    }\n",
       "</style>\n",
       "<table border=\"1\" class=\"dataframe\">\n",
       "  <thead>\n",
       "    <tr style=\"text-align: right;\">\n",
       "      <th></th>\n",
       "      <th>id</th>\n",
       "      <th>vendor_id</th>\n",
       "      <th>pickup_datetime</th>\n",
       "      <th>passenger_count</th>\n",
       "      <th>pickup_longitude</th>\n",
       "      <th>pickup_latitude</th>\n",
       "      <th>dropoff_longitude</th>\n",
       "      <th>dropoff_latitude</th>\n",
       "      <th>store_and_fwd_flag</th>\n",
       "    </tr>\n",
       "  </thead>\n",
       "  <tbody>\n",
       "    <tr>\n",
       "      <th>0</th>\n",
       "      <td>id3004672</td>\n",
       "      <td>1</td>\n",
       "      <td>2016-06-30 23:59:58</td>\n",
       "      <td>1</td>\n",
       "      <td>-73.988129</td>\n",
       "      <td>40.732029</td>\n",
       "      <td>-73.990173</td>\n",
       "      <td>40.756680</td>\n",
       "      <td>N</td>\n",
       "    </tr>\n",
       "    <tr>\n",
       "      <th>1</th>\n",
       "      <td>id3505355</td>\n",
       "      <td>1</td>\n",
       "      <td>2016-06-30 23:59:53</td>\n",
       "      <td>1</td>\n",
       "      <td>-73.964203</td>\n",
       "      <td>40.679993</td>\n",
       "      <td>-73.959808</td>\n",
       "      <td>40.655403</td>\n",
       "      <td>N</td>\n",
       "    </tr>\n",
       "    <tr>\n",
       "      <th>2</th>\n",
       "      <td>id1217141</td>\n",
       "      <td>1</td>\n",
       "      <td>2016-06-30 23:59:47</td>\n",
       "      <td>1</td>\n",
       "      <td>-73.997437</td>\n",
       "      <td>40.737583</td>\n",
       "      <td>-73.986160</td>\n",
       "      <td>40.729523</td>\n",
       "      <td>N</td>\n",
       "    </tr>\n",
       "    <tr>\n",
       "      <th>3</th>\n",
       "      <td>id2150126</td>\n",
       "      <td>2</td>\n",
       "      <td>2016-06-30 23:59:41</td>\n",
       "      <td>1</td>\n",
       "      <td>-73.956070</td>\n",
       "      <td>40.771900</td>\n",
       "      <td>-73.986427</td>\n",
       "      <td>40.730469</td>\n",
       "      <td>N</td>\n",
       "    </tr>\n",
       "    <tr>\n",
       "      <th>4</th>\n",
       "      <td>id1598245</td>\n",
       "      <td>1</td>\n",
       "      <td>2016-06-30 23:59:33</td>\n",
       "      <td>1</td>\n",
       "      <td>-73.970215</td>\n",
       "      <td>40.761475</td>\n",
       "      <td>-73.961510</td>\n",
       "      <td>40.755890</td>\n",
       "      <td>N</td>\n",
       "    </tr>\n",
       "  </tbody>\n",
       "</table>\n",
       "</div>"
      ],
      "text/plain": [
       "          id  vendor_id     pickup_datetime  passenger_count  \\\n",
       "0  id3004672          1 2016-06-30 23:59:58                1   \n",
       "1  id3505355          1 2016-06-30 23:59:53                1   \n",
       "2  id1217141          1 2016-06-30 23:59:47                1   \n",
       "3  id2150126          2 2016-06-30 23:59:41                1   \n",
       "4  id1598245          1 2016-06-30 23:59:33                1   \n",
       "\n",
       "   pickup_longitude  pickup_latitude  dropoff_longitude  dropoff_latitude  \\\n",
       "0        -73.988129        40.732029         -73.990173         40.756680   \n",
       "1        -73.964203        40.679993         -73.959808         40.655403   \n",
       "2        -73.997437        40.737583         -73.986160         40.729523   \n",
       "3        -73.956070        40.771900         -73.986427         40.730469   \n",
       "4        -73.970215        40.761475         -73.961510         40.755890   \n",
       "\n",
       "  store_and_fwd_flag  \n",
       "0                  N  \n",
       "1                  N  \n",
       "2                  N  \n",
       "3                  N  \n",
       "4                  N  "
      ]
     },
     "execution_count": 25,
     "metadata": {},
     "output_type": "execute_result"
    }
   ],
   "source": [
    "test_data=pd.read_csv(\"test.csv\",parse_dates=['pickup_datetime'])\n",
    "test_data.head()"
   ]
  },
  {
   "cell_type": "markdown",
   "id": "efeca13a-961c-4e5d-9d67-b1eb31d37720",
   "metadata": {},
   "source": [
    "## Step3: Data Exploration"
   ]
  },
  {
   "cell_type": "code",
   "execution_count": 26,
   "id": "74781e50-603c-4cb5-8603-e81d1e6de481",
   "metadata": {},
   "outputs": [],
   "source": [
    "def _create_summary_table(train_data):\n",
    "    summary_table = pd.DataFrame(index =train_data.columns)\n",
    "    summary_table['types'] = train_data.dtypes\n",
    "    summary_table['unique_values'] = train_data.apply(lambda col: len(col.unique()))\n",
    "    summary_table['pct_unique_value']= summary_table['unique_values'] / train_data.shape[0]\n",
    "    summary_table['nan_values'] = train_data.apply(lambda col: col.isna().sum())\n",
    "    stats=train_data.describe(include='all').T\n",
    "    required_columns= ['min','max','mean','std']\n",
    "    summary_table[required_columns]=stats[required_columns]\n",
    "\n",
    "    return summary_table"
   ]
  },
  {
   "cell_type": "markdown",
   "id": "2b613b9b-61da-4196-9308-3710e5e4baf1",
   "metadata": {},
   "source": [
    "### Data Exploration of Train Data"
   ]
  },
  {
   "cell_type": "code",
   "execution_count": null,
   "id": "099526ea-bca8-4bd3-9963-058a0844cd30",
   "metadata": {},
   "outputs": [],
   "source": [
    "_create_summary_table(train_data)"
   ]
  },
  {
   "cell_type": "markdown",
   "id": "11553e6e-f1c5-4299-b45d-a797b0c672b5",
   "metadata": {},
   "source": [
    "### Data Exploration of Test Data"
   ]
  },
  {
   "cell_type": "code",
   "execution_count": null,
   "id": "6256afab-392b-4bdf-98cf-d9d2fb25404b",
   "metadata": {},
   "outputs": [],
   "source": [
    "_create_summary_table(test_data)"
   ]
  },
  {
   "cell_type": "code",
   "execution_count": null,
   "id": "3a6b68b2-8ec2-4744-a17a-951bf411c268",
   "metadata": {},
   "outputs": [],
   "source": [
    "train_data=train_data.drop(['dropoff_datetime'], axis=1)"
   ]
  },
  {
   "cell_type": "markdown",
   "id": "5f082291-8eef-42a3-8957-c8a2e2c10f99",
   "metadata": {},
   "source": [
    "## Step4: Exploratory Data Analysis"
   ]
  },
  {
   "cell_type": "code",
   "execution_count": null,
   "id": "a5562848-842a-4b24-9216-e2ab0239a28c",
   "metadata": {},
   "outputs": [],
   "source": [
    "sns.scatterplot(data=train_data,\n",
    "               x='dropoff_longitude',\n",
    "               y='trip_duration',\n",
    "               alpha=0.7);\n",
    "plt.title('Dropoff Longitude vs Trip Duration')"
   ]
  },
  {
   "cell_type": "code",
   "execution_count": null,
   "id": "4357b105-2277-4efe-b99d-8a51b4e8890f",
   "metadata": {},
   "outputs": [],
   "source": [
    "sns.barplot(x='passenger_count', y='trip_duration', hue='store_and_fwd_flag', data = train_data)"
   ]
  },
  {
   "cell_type": "code",
   "execution_count": null,
   "id": "13094468-ba69-4bb7-a051-e8bcab513a7e",
   "metadata": {},
   "outputs": [],
   "source": [
    "fig,  (ax1, ax2,ax3) = plt.subplots(1, 3,figsize=(12,8))\n",
    "hourly_count = train_data.groupby(train_data['pickup_datetime'].dt.hour).trip_duration.count().reset_index()\n",
    "weekly_count = train_data.groupby(train_data['pickup_datetime'].dt.dayofweek).trip_duration.count().reset_index()\n",
    "monthly_count=train_data.groupby(train_data['pickup_datetime'].dt.to_period('M')).trip_duration.count().reset_index()\n",
    "\n",
    "ax1.set_ylabel('count')\n",
    "ax1.set_xlabel('Hour of the Day')\n",
    "ax1.bar(x =hourly_count.pickup_datetime ,height = hourly_count.trip_duration,color='green')\n",
    "\n",
    "ax2.set_xlabel('Day of the week')\n",
    "ax2.bar(x =weekly_count.pickup_datetime ,height = weekly_count.trip_duration,color='blue')\n",
    "\n",
    "ax3.bar(x =monthly_count.pickup_datetime.dt.month ,height = monthly_count.trip_duration,color='gold')\n",
    "ax3.set_xlabel('Month of the year')"
   ]
  },
  {
   "cell_type": "markdown",
   "id": "93e82054-8537-43ee-9ac9-93d9852e6ac4",
   "metadata": {},
   "source": [
    "## Step5: Data Preprocessing"
   ]
  },
  {
   "cell_type": "markdown",
   "id": "ae4dc80b-1fb5-4a33-89a7-1c598cc758e3",
   "metadata": {},
   "source": [
    "### Data Labeling and MinMaxScaler"
   ]
  },
  {
   "cell_type": "markdown",
   "id": "86239b84-79fd-4ff5-8d62-3ad1bcecf163",
   "metadata": {},
   "source": [
    "### Label Encoding of Train Data"
   ]
  },
  {
   "cell_type": "code",
   "execution_count": null,
   "id": "2ab267b2-324e-439a-a343-9053babfad26",
   "metadata": {},
   "outputs": [],
   "source": [
    "lc=LabelEncoder()\n",
    "train_data['id']=lc.fit_transform(train_data['id'])\n",
    "train_data['store_and_fwd_flag']=lc.fit_transform(train_data['store_and_fwd_flag'])\n",
    "train_data['vendor_id']=lc.fit_transform(train_data['vendor_id'])\n",
    "train_data['pickup_datetime']=lc.fit_transform(train_data['pickup_datetime'])"
   ]
  },
  {
   "cell_type": "markdown",
   "id": "a1dc9ca6-390b-4bae-8a3a-c5e469c99ef3",
   "metadata": {},
   "source": [
    "### Label Encoding of Test Data"
   ]
  },
  {
   "cell_type": "code",
   "execution_count": null,
   "id": "b61b258a-58c9-4889-876e-d7295e6161d9",
   "metadata": {},
   "outputs": [],
   "source": [
    "test_data['id']=lc.fit_transform(test_data['id'])\n",
    "test_data['store_and_fwd_flag']=lc.fit_transform(test_data['store_and_fwd_flag'])\n",
    "test_data['vendor_id']=lc.fit_transform(test_data['vendor_id'])\n",
    "test_data['pickup_datetime']=lc.fit_transform(test_data['pickup_datetime'])"
   ]
  },
  {
   "cell_type": "markdown",
   "id": "c8bf002b-fbc2-4458-b95c-a2894368f705",
   "metadata": {},
   "source": [
    "### Heat Map"
   ]
  },
  {
   "cell_type": "code",
   "execution_count": null,
   "id": "1d5ffc7f-f771-4d6d-9783-dc53e12f6866",
   "metadata": {},
   "outputs": [],
   "source": [
    "fig, ax = plt.subplots(figsize=(16,8))\n",
    "sns.heatmap(train_data.corr(), cmap='Blues', annot=True, linewidth=.1, ax=ax)"
   ]
  },
  {
   "cell_type": "code",
   "execution_count": null,
   "id": "50c38d1d-608b-4bd6-99a2-9f8bc4d5ea40",
   "metadata": {},
   "outputs": [],
   "source": [
    "scaler=MinMaxScaler()\n",
    "train_data= scaler.fit_transform(train_data)\n",
    "test_data=scaler.fit_transform(test_data)"
   ]
  },
  {
   "cell_type": "code",
   "execution_count": null,
   "id": "377acbd4-b958-4213-862b-24a93e2ab4d4",
   "metadata": {},
   "outputs": [],
   "source": [
    "train_data=pd.DataFrame(train_data)\n",
    "train_data.head()"
   ]
  },
  {
   "cell_type": "code",
   "execution_count": null,
   "id": "4468df73-b602-4cdf-837e-fa4d96f47345",
   "metadata": {},
   "outputs": [],
   "source": [
    "test_data=pd.DataFrame(test_data)\n",
    "test_data.head()"
   ]
  },
  {
   "cell_type": "markdown",
   "id": "cf5d7d92-3879-43ca-b8b3-a368540ea3f1",
   "metadata": {},
   "source": [
    "## Step6: Model Building"
   ]
  },
  {
   "cell_type": "code",
   "execution_count": null,
   "id": "3d029a01-75e5-412b-a038-e2b13be0b10a",
   "metadata": {},
   "outputs": [],
   "source": [
    "#6.1 Spliting Data into Training and Test Dataset\n",
    "X=train_data.drop([9], axis=1)\n",
    "y=train_data[9]\n",
    "print(X.head())\n",
    "y.head()\n",
    "X_train,X_test,y_train,y_test=train_test_split(X,y,test_size=0.2)"
   ]
  },
  {
   "cell_type": "code",
   "execution_count": null,
   "id": "34a33623-e086-4446-8ddb-4d4c57240848",
   "metadata": {},
   "outputs": [],
   "source": [
    "#6.2 Using the Regression Model\n",
    "lr=LinearRegression()\n",
    "#6.3 Fitting the Model\n",
    "lr.fit(X_train,y_train)"
   ]
  },
  {
   "cell_type": "code",
   "execution_count": null,
   "id": "aa53c3c3-c4e1-4531-ab7f-e5903a263a86",
   "metadata": {},
   "outputs": [],
   "source": [
    "#6.4 Making the required Predictions\n",
    "y_pred=lr.predict(X_test)\n",
    "y_pred.reshape(-1,1)"
   ]
  },
  {
   "cell_type": "code",
   "execution_count": null,
   "id": "690e7206-f080-40fa-8403-3f976a8a3aa2",
   "metadata": {},
   "outputs": [],
   "source": [
    "#6.5 Evaluting the Model\n",
    "mse=mean_squared_error(y_test,y_pred)\n",
    "print('The Mean Squared Error is ',mse)\n",
    "mae=mean_absolute_error(y_test,y_pred)\n",
    "print('The Mean Absolute Error is ',mae)\n",
    "r2=r2_score(y_test,y_pred)\n",
    "print('The R2 Score is ',r2)"
   ]
  },
  {
   "cell_type": "markdown",
   "id": "3d04f833-ec36-436c-bef6-0cd8ecaaf4df",
   "metadata": {},
   "source": [
    "## Making Predictions on the Test Data"
   ]
  },
  {
   "cell_type": "code",
   "execution_count": null,
   "id": "1a8ad9f0-7876-4339-9ff3-0044f36ca026",
   "metadata": {},
   "outputs": [],
   "source": [
    "#Making the Predictions on Test data\n",
    "test_prediction=lr.predict(test_data)"
   ]
  },
  {
   "cell_type": "code",
   "execution_count": null,
   "id": "1420108b-e289-4c26-8b3d-34a960b78d4b",
   "metadata": {},
   "outputs": [],
   "source": [
    "test_data['Predictions']=test_prediction\n",
    "test_data"
   ]
  }
 ],
 "metadata": {
  "kernelspec": {
   "display_name": "gpu",
   "language": "python",
   "name": "gpu"
  },
  "language_info": {
   "codemirror_mode": {
    "name": "ipython",
    "version": 3
   },
   "file_extension": ".py",
   "mimetype": "text/x-python",
   "name": "python",
   "nbconvert_exporter": "python",
   "pygments_lexer": "ipython3",
   "version": "3.9.17"
  }
 },
 "nbformat": 4,
 "nbformat_minor": 5
}
